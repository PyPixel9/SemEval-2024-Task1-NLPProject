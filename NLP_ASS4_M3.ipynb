{
 "cells": [
  {
   "cell_type": "code",
   "execution_count": 53,
   "metadata": {},
   "outputs": [],
   "source": [
    "import torch\n",
    "import torch.nn as nn\n",
    "import torch.nn.functional as F\n",
    "from torch.utils.data import DataLoader, Dataset\n",
    "from sentence_transformers import SentenceTransformer, util\n",
    "import numpy as np\n",
    "import pandas as pd\n",
    "import torch.optim as optim\n",
    "import matplotlib.pyplot as plt\n",
    "import seaborn as sns"
   ]
  },
  {
   "cell_type": "code",
   "execution_count": 24,
   "metadata": {},
   "outputs": [
    {
     "name": "stdout",
     "output_type": "stream",
     "text": [
      "cuda\n"
     ]
    }
   ],
   "source": [
    "# check if GPU working \n",
    "\n",
    "device = torch.device(\"cuda\" if torch.cuda.is_available() else \"cpu\")\n",
    "\n",
    "# switch off cudnn \n",
    "torch.backends.cudnn.enabled = False\n",
    "\n",
    "print(device)\n"
   ]
  },
  {
   "cell_type": "code",
   "execution_count": 25,
   "metadata": {},
   "outputs": [
    {
     "name": "stdout",
     "output_type": "stream",
     "text": [
      "Final Output shape: torch.Size([1, 24, 7])\n"
     ]
    }
   ],
   "source": [
    "\n",
    "class EFR_CNN(nn.Module):\n",
    "    def __init__(self, in_channels, mid_channels, out_channels, input_size, hidden_size, num_layers, mlp_hidden_size, output_size):\n",
    "        super(EFR_CNN, self).__init__()\n",
    "        \"\"\"\n",
    "        ERC-CNN Module combining CNN, BiLSTM, and MLP\n",
    "        Input shape: (batch_size, in_channels, width, length)\n",
    "        Output shape: (batch_size, seq_length, output_size)\n",
    "        \"\"\"\n",
    "        # CNN layers\n",
    "        self.conv1 = nn.Conv2d(in_channels, mid_channels, kernel_size=(1, 1))\n",
    "        self.conv2 = nn.Conv2d(mid_channels, out_channels, kernel_size=(1, 1))\n",
    "\n",
    "        # BiLSTM layer\n",
    "        self.bilstm = nn.LSTM(input_size, hidden_size, num_layers=num_layers, batch_first=True, bidirectional=True)\n",
    "\n",
    "        # MLP layers\n",
    "        self.fc1 = nn.Linear(hidden_size * 2, mlp_hidden_size)\n",
    "        self.fc2 = nn.Linear(mlp_hidden_size, output_size)\n",
    "\n",
    "    def forward(self, x):\n",
    "        # CNN\n",
    "        x = F.relu(self.conv1(x))\n",
    "        x = self.conv2(x)\n",
    "\n",
    "        # BiLSTM\n",
    "        x = x.squeeze(1)  # Remove the singleton dimension\n",
    "        x, _ = self.bilstm(x)\n",
    "\n",
    "        # MLP\n",
    "        x = F.relu(self.fc1(x))\n",
    "        x = self.fc2(x)\n",
    "\n",
    "        return x\n",
    "\n",
    "# Define parameters\n",
    "batch_size = 1\n",
    "speakers = 10  # max_speakers\n",
    "num_utterances = 24  # dialogue_length\n",
    "embedding_size = 768\n",
    "\n",
    "cnn_mid_channels = 3\n",
    "cnn_out_channels = 1\n",
    "\n",
    "hidden_lstm = 64\n",
    "layers_lstm = 1\n",
    "\n",
    "inputs_mlp = hidden_lstm * 2\n",
    "hidden_mlp = 64\n",
    "output_mlp = number_of_emotions = 2\n",
    "\n",
    "\n",
    "# Create individual components\n",
    "# Initialize the ERC_CNN class\n",
    "model = EFR_CNN(in_channels=speakers,\n",
    "                mid_channels=cnn_mid_channels,\n",
    "                out_channels=cnn_out_channels,\n",
    "                input_size=embedding_size,\n",
    "                hidden_size=hidden_lstm,\n",
    "                num_layers=layers_lstm,\n",
    "                mlp_hidden_size=hidden_mlp,\n",
    "                output_size=output_mlp)\n",
    "\n",
    "input_tensor = torch.randn(batch_size, speakers, num_utterances, embedding_size)\n",
    "\n",
    "\n",
    "# Forward pass through the model\n",
    "output = model(input_tensor)  # Add batch dimension\n",
    "\n",
    "print(\"Final Output shape:\", output.shape)"
   ]
  },
  {
   "cell_type": "code",
   "execution_count": 26,
   "metadata": {},
   "outputs": [],
   "source": [
    "\n",
    "class MyDataset(Dataset):\n",
    "    def __init__(self, json_path = 'train_file.json'):\n",
    "        self.embedding_model = SentenceTransformer('all-mpnet-base-v2')\n",
    "        self.train_data = pd.read_json(json_path)\n",
    "\n",
    "    def generate_cnn_embeddings(self, row):\n",
    "        speakers = row['speakers']\n",
    "\n",
    "        embeddings_list = self.embedding_model.encode(row['utterances'])\n",
    "\n",
    "        speaker_index = {}\n",
    "        index = 0\n",
    "        for speaker in speakers:\n",
    "            if speaker not in speaker_index:\n",
    "                speaker_index[speaker] = index\n",
    "                index += 1\n",
    "\n",
    "        S = len(speaker_index)\n",
    "        N = len(speakers)\n",
    "        embeddings_tensor = np.zeros((max(10 , S), N, 768))\n",
    "        for i, (speaker, embedding) in enumerate(zip(speakers, embeddings_list)):\n",
    "            idx = speaker_index[speaker]\n",
    "            embeddings_tensor[idx, i, :] = embedding\n",
    "        return embeddings_tensor\n",
    "\n",
    "    def gen_trigger_matrix(self, row):\n",
    "        triggers = row['triggers']\n",
    "        trigger_matrix = np.zeros((len(triggers), 2))\n",
    "        for idx, trigger in enumerate(triggers):\n",
    "            if trigger is None:\n",
    "                trigger = 0\n",
    "            trigger_matrix[idx][int(trigger)] = 1\n",
    "        return trigger_matrix\n",
    "\n",
    "\n",
    "    def __len__(self):\n",
    "        return len(self.train_data)\n",
    "\n",
    "    def __getitem__(self, idx):\n",
    "        X = self.generate_cnn_embeddings(self.train_data.iloc[idx])\n",
    "        Y = self.gen_trigger_matrix(self.train_data.iloc[idx])\n",
    "        # print(X.shape, Y.shape)\n",
    "        return X, Y"
   ]
  },
  {
   "cell_type": "code",
   "execution_count": 27,
   "metadata": {},
   "outputs": [],
   "source": [
    "# Define parameters\n",
    "batch_size = 1\n",
    "speakers = 10  # max_speakers\n",
    "num_utterances = 24  # dialogue_length\n",
    "embedding_size = 768\n",
    "\n",
    "cnn_mid_channels = 3\n",
    "cnn_out_channels = 1\n",
    "\n",
    "hidden_lstm = 64\n",
    "layers_lstm = 1\n",
    "\n",
    "inputs_mlp = hidden_lstm * 2\n",
    "hidden_mlp = 64\n",
    "output_mlp = number_of_triggers = 2\n",
    "\n",
    "\n",
    "# Initialize the ERC_CNN class\n",
    "model = EFR_CNN(in_channels=speakers,\n",
    "                mid_channels=cnn_mid_channels,\n",
    "                out_channels=cnn_out_channels,\n",
    "                input_size=embedding_size,\n",
    "                hidden_size=hidden_lstm,\n",
    "                num_layers=layers_lstm,\n",
    "                mlp_hidden_size=hidden_mlp,\n",
    "                output_size=output_mlp)\n",
    "\n",
    "# input_tensor = torch.randn(batch_size, speakers, num_utterances, embedding_size)"
   ]
  },
  {
   "cell_type": "code",
   "execution_count": 28,
   "metadata": {},
   "outputs": [
    {
     "data": {
      "text/plain": [
       "device(type='cuda')"
      ]
     },
     "execution_count": 28,
     "metadata": {},
     "output_type": "execute_result"
    }
   ],
   "source": [
    "DEVICE = torch.device('cuda' if torch.cuda.is_available() else 'cpu')\n",
    "DEVICE"
   ]
  },
  {
   "cell_type": "code",
   "execution_count": 29,
   "metadata": {},
   "outputs": [],
   "source": [
    "folder_path = \"/content/drive/MyDrive/IIITD/Courses/nlp/Assignment 4/\"\n",
    "folder_path = \"\"\n",
    "\n",
    "path_train_file = \"train_file.json\"\n",
    "path_val_file = \"val_file.json\"\n",
    "\n",
    "dataset = MyDataset(path_train_file)\n",
    "val_dataset = MyDataset(path_val_file)\n",
    "\n",
    "criterion = nn.CrossEntropyLoss().to(DEVICE)\n",
    "\n",
    "model = EFR_CNN(in_channels=speakers,\n",
    "                mid_channels=cnn_mid_channels,\n",
    "                out_channels=cnn_out_channels,\n",
    "                input_size=embedding_size,\n",
    "                hidden_size=hidden_lstm,\n",
    "                num_layers=layers_lstm,\n",
    "                mlp_hidden_size=hidden_mlp,\n",
    "                output_size=output_mlp).to(DEVICE)\n",
    "optimizer = optim.Adam(model.parameters(), lr=0.001)\n",
    "dataloader = DataLoader(dataset, batch_size=1, shuffle=False)\n",
    "val_data_loader = DataLoader(val_dataset, batch_size=1, shuffle=False)\n",
    "\n"
   ]
  },
  {
   "cell_type": "code",
   "execution_count": null,
   "metadata": {},
   "outputs": [],
   "source": [
    "model.train()\n",
    "\n",
    "from tqdm import tqdm\n",
    "num_epochs = 10\n",
    "for epoch in range(num_epochs):\n",
    "    running_loss = 0.0\n",
    "    for i, (inputs, labels) in tqdm(enumerate(dataloader)):\n",
    "        inputs = inputs.to(DEVICE)\n",
    "        labels = labels.to(DEVICE)\n",
    "\n",
    "        optimizer.zero_grad()  # Zero the parameter gradients\n",
    "\n",
    "        # Forward pass\n",
    "        outputs = model(inputs.float())\n",
    "\n",
    "        # Compute the loss\n",
    "        loss = criterion(outputs, labels)\n",
    "\n",
    "        # Backward pass\n",
    "        loss.backward()\n",
    "\n",
    "        # Update model parameters\n",
    "        optimizer.step()\n",
    "\n",
    "        # Print statistics\n",
    "        running_loss += loss.item() * inputs.size(0)\n",
    "\n",
    "        # tqdm.write(f\"Training in Progress: {i+1}/{6000}\")\n",
    "\n",
    "    # Print average loss for the epoch\n",
    "    epoch_loss = running_loss / len(dataloader.dataset)\n",
    "    print(f\"Epoch [{epoch+1}/{num_epochs}], Loss: {epoch_loss:.4f}\")\n",
    "\n",
    "    running_loss = 0.0\n",
    "    for i, (inputs, labels) in tqdm(enumerate(val_data_loader)):\n",
    "        inputs = inputs.to(DEVICE)\n",
    "        labels = labels.to(DEVICE)\n",
    "\n",
    "        # Forward pass\n",
    "        outputs = model(inputs.float())\n",
    "\n",
    "        # Compute the loss\n",
    "        loss = criterion(outputs, labels)\n",
    "\n",
    "        # Print statistics\n",
    "        running_loss += loss.item() * inputs.size(0)\n",
    "\n",
    "        # tqdm.write(f\"Training in Progress: {i+1}/{6000}\")\n",
    "\n",
    "    # Print average loss for the epoch\n",
    "    epoch_loss = running_loss / len(val_dataset)\n",
    "    print(f\"Epoch [{epoch+1}/{num_epochs}], Loss: {epoch_loss:.4f}\")"
   ]
  },
  {
   "cell_type": "code",
   "execution_count": null,
   "metadata": {},
   "outputs": [
    {
     "name": "stdout",
     "output_type": "stream",
     "text": [
      "Model saved successfully\n"
     ]
    }
   ],
   "source": [
    "# save the model\n",
    "torch.save(model.state_dict(), folder_path + \"EFR_CNN.pth\")\n",
    "print(\"Model saved successfully\")"
   ]
  },
  {
   "cell_type": "code",
   "execution_count": 58,
   "metadata": {},
   "outputs": [
    {
     "name": "stderr",
     "output_type": "stream",
     "text": [
      "0it [00:00, ?it/s]"
     ]
    },
    {
     "name": "stderr",
     "output_type": "stream",
     "text": [
      "0it [00:00, ?it/s]"
     ]
    },
    {
     "name": "stdout",
     "output_type": "stream",
     "text": [
      "tensor([[[  6.6777, -10.0692],\n",
      "         [  6.6459,  -6.5229],\n",
      "         [  6.6356,  -7.7604],\n",
      "         [  6.6738,  -6.8151],\n",
      "         [  6.6337,  -7.3458],\n",
      "         [  6.6066,  -7.6106],\n",
      "         [  6.6294,  -7.1019],\n",
      "         [  6.6259,  -8.8559],\n",
      "         [  6.6328,  -7.8672],\n",
      "         [  6.6069,  -8.8341],\n",
      "         [  6.6320,  -5.7440],\n",
      "         [  6.6617,  -7.3721],\n",
      "         [  6.6190,  -6.1586],\n",
      "         [  6.6048,  -8.1232],\n",
      "         [  6.5109,  -0.0294],\n",
      "         [  2.7239,   3.6574],\n",
      "         [  6.5724,   0.4748]]], device='cuda:0', grad_fn=<ViewBackward0>)\n",
      "tensor([[[1., 0.],\n",
      "         [1., 0.],\n",
      "         [1., 0.],\n",
      "         [1., 0.],\n",
      "         [1., 0.],\n",
      "         [1., 0.],\n",
      "         [1., 0.],\n",
      "         [1., 0.],\n",
      "         [1., 0.],\n",
      "         [1., 0.],\n",
      "         [1., 0.],\n",
      "         [1., 0.],\n",
      "         [1., 0.],\n",
      "         [1., 0.],\n",
      "         [1., 0.],\n",
      "         [0., 1.],\n",
      "         [1., 0.]]], device='cuda:0', dtype=torch.float64)\n"
     ]
    },
    {
     "name": "stderr",
     "output_type": "stream",
     "text": [
      "\n"
     ]
    }
   ],
   "source": [
    "# load the model first , name of model is : 'EFR_CNN.pth'\n",
    "\n",
    "# print the prediction for the first element of the validation set\n",
    "\n",
    "# loading the model from 'EFR_CNN.pth' file\n",
    "\n",
    "model.load_state_dict(torch.load(folder_path + 'EFR_CNN.pth'))\n",
    "model.eval()\n",
    "\n",
    "for i, (inputs, labels) in tqdm(enumerate(val_data_loader)):\n",
    "    inputs = inputs.to(DEVICE)\n",
    "    labels = labels.to(DEVICE)\n",
    "    output = model(inputs.float())\n",
    "    print(output)\n",
    "    print(labels)\n",
    "    break "
   ]
  },
  {
   "cell_type": "code",
   "execution_count": 59,
   "metadata": {},
   "outputs": [
    {
     "name": "stderr",
     "output_type": "stream",
     "text": [
      "100%|██████████| 843/843 [00:12<00:00, 66.12it/s]\n"
     ]
    }
   ],
   "source": [
    "from sklearn.metrics import f1_score, confusion_matrix\n",
    "\n",
    "model.load_state_dict(torch.load('EFR_CNN.pth'))\n",
    "model.to(DEVICE)\n",
    "model.eval()\n",
    "\n",
    "predictions = []\n",
    "true_labels = []\n",
    "\n",
    "for inputs, labels in tqdm(val_data_loader):\n",
    "    inputs = inputs.to(DEVICE)\n",
    "    labels = labels[:, :, 1].type(torch.LongTensor).to(DEVICE)\n",
    "    outputs = model(inputs.float())\n",
    "    pred = outputs.argmax(dim=-1)\n",
    "    #print(\"PREDICTION:\" , pred)\n",
    "    #print(\"LABELS    :\", labels)\n",
    "    predictions.extend(pred.cpu().numpy().flatten())\n",
    "    true_labels.extend(labels.cpu().numpy().flatten())"
   ]
  },
  {
   "cell_type": "code",
   "execution_count": 60,
   "metadata": {},
   "outputs": [
    {
     "name": "stdout",
     "output_type": "stream",
     "text": [
      "Confusion Matrix:\n",
      " [[6173   13]\n",
      " [ 920  187]]\n",
      "F1 Score: 0.6079450885541443\n"
     ]
    },
    {
     "data": {
      "image/png": "[encoded data removed]",
      "text/plain": [
       "<Figure size 640x480 with 2 Axes>"
      ]
     },
     "metadata": {},
     "output_type": "display_data"
    }
   ],
   "source": [
    "f1 = f1_score(true_labels, predictions, average='macro')\n",
    "cm = confusion_matrix(true_labels, predictions)\n",
    "print(\"Confusion Matrix:\\n\", cm)\n",
    "print(\"F1 Score:\", f1)\n",
    "\n",
    "sns.heatmap(cm, annot=True, fmt='g', cmap='Blues')\n",
    "plt.xlabel('Predicted')\n",
    "plt.ylabel('True')\n",
    "plt.title(\"1-Trigger , 0-NonTrigger\" )\n",
    "plt.show()\n"
   ]
  }
 ],
 "metadata": {
  "kernelspec": {
   "display_name": "base",
   "language": "python",
   "name": "python3"
  },
  "language_info": {
   "codemirror_mode": {
    "name": "ipython",
    "version": 3
   },
   "file_extension": ".py",
   "mimetype": "text/x-python",
   "name": "python",
   "nbconvert_exporter": "python",
   "pygments_lexer": "ipython3",
   "version": "3.8.19"
  }
 },
 "nbformat": 4,
 "nbformat_minor": 2
}

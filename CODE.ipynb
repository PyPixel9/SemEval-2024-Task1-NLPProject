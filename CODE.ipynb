{
  "cells": [
    {
      "cell_type": "markdown",
      "metadata": {
        "id": "ymlyJmFruh_d"
      },
      "source": [
        "## Model 1 - ERC (Emotion Recognition in conversation)"
      ]
    },
    {
      "cell_type": "markdown",
      "metadata": {
        "id": "6pe-dbZ0sGy1"
      },
      "source": [
        "#### Setup"
      ]
    },
    {
      "cell_type": "code",
      "execution_count": 1,
      "metadata": {
        "colab": {
          "base_uri": "https://localhost:8080/"
        },
        "id": "LofP6I-Ldiyi",
        "outputId": "33040b44-0475-449d-8605-de45aae06d6f"
      },
      "outputs": [
        {
          "name": "stdout",
          "output_type": "stream",
          "text": [
            "Requirement already satisfied: transformers in /home/utkarsh/miniconda3/envs/pytorch_env/lib/python3.8/site-packages (4.39.3)\n",
            "Requirement already satisfied: filelock in /home/utkarsh/miniconda3/envs/pytorch_env/lib/python3.8/site-packages (from transformers) (3.13.1)\n",
            "Requirement already satisfied: huggingface-hub<1.0,>=0.19.3 in /home/utkarsh/miniconda3/envs/pytorch_env/lib/python3.8/site-packages (from transformers) (0.22.2)\n",
            "Requirement already satisfied: numpy>=1.17 in /home/utkarsh/miniconda3/envs/pytorch_env/lib/python3.8/site-packages (from transformers) (1.24.3)\n",
            "Requirement already satisfied: packaging>=20.0 in /home/utkarsh/miniconda3/envs/pytorch_env/lib/python3.8/site-packages (from transformers) (24.0)\n",
            "Requirement already satisfied: pyyaml>=5.1 in /home/utkarsh/miniconda3/envs/pytorch_env/lib/python3.8/site-packages (from transformers) (6.0.1)\n",
            "Requirement already satisfied: regex!=2019.12.17 in /home/utkarsh/miniconda3/envs/pytorch_env/lib/python3.8/site-packages (from transformers) (2023.12.25)\n",
            "Requirement already satisfied: requests in /home/utkarsh/miniconda3/envs/pytorch_env/lib/python3.8/site-packages (from transformers) (2.31.0)\n",
            "Requirement already satisfied: tokenizers<0.19,>=0.14 in /home/utkarsh/miniconda3/envs/pytorch_env/lib/python3.8/site-packages (from transformers) (0.15.2)\n",
            "Requirement already satisfied: safetensors>=0.4.1 in /home/utkarsh/miniconda3/envs/pytorch_env/lib/python3.8/site-packages (from transformers) (0.4.2)\n",
            "Requirement already satisfied: tqdm>=4.27 in /home/utkarsh/miniconda3/envs/pytorch_env/lib/python3.8/site-packages (from transformers) (4.66.2)\n",
            "Requirement already satisfied: fsspec>=2023.5.0 in /home/utkarsh/miniconda3/envs/pytorch_env/lib/python3.8/site-packages (from huggingface-hub<1.0,>=0.19.3->transformers) (2024.3.1)\n",
            "Requirement already satisfied: typing-extensions>=3.7.4.3 in /home/utkarsh/miniconda3/envs/pytorch_env/lib/python3.8/site-packages (from huggingface-hub<1.0,>=0.19.3->transformers) (4.9.0)\n",
            "Requirement already satisfied: charset-normalizer<4,>=2 in /home/utkarsh/miniconda3/envs/pytorch_env/lib/python3.8/site-packages (from requests->transformers) (2.0.4)\n",
            "Requirement already satisfied: idna<4,>=2.5 in /home/utkarsh/miniconda3/envs/pytorch_env/lib/python3.8/site-packages (from requests->transformers) (3.4)\n",
            "Requirement already satisfied: urllib3<3,>=1.21.1 in /home/utkarsh/miniconda3/envs/pytorch_env/lib/python3.8/site-packages (from requests->transformers) (2.1.0)\n",
            "Requirement already satisfied: certifi>=2017.4.17 in /home/utkarsh/miniconda3/envs/pytorch_env/lib/python3.8/site-packages (from requests->transformers) (2024.2.2)\n",
            "Requirement already satisfied: sentence_transformers in /home/utkarsh/miniconda3/envs/pytorch_env/lib/python3.8/site-packages (2.6.1)\n",
            "Requirement already satisfied: transformers<5.0.0,>=4.32.0 in /home/utkarsh/miniconda3/envs/pytorch_env/lib/python3.8/site-packages (from sentence_transformers) (4.39.3)\n",
            "Requirement already satisfied: tqdm in /home/utkarsh/miniconda3/envs/pytorch_env/lib/python3.8/site-packages (from sentence_transformers) (4.66.2)\n",
            "Requirement already satisfied: torch>=1.11.0 in /home/utkarsh/miniconda3/envs/pytorch_env/lib/python3.8/site-packages (from sentence_transformers) (2.2.0)\n",
            "Requirement already satisfied: numpy in /home/utkarsh/miniconda3/envs/pytorch_env/lib/python3.8/site-packages (from sentence_transformers) (1.24.3)\n",
            "Requirement already satisfied: scikit-learn in /home/utkarsh/miniconda3/envs/pytorch_env/lib/python3.8/site-packages (from sentence_transformers) (1.3.2)\n",
            "Requirement already satisfied: scipy in /home/utkarsh/miniconda3/envs/pytorch_env/lib/python3.8/site-packages (from sentence_transformers) (1.10.1)\n",
            "Requirement already satisfied: huggingface-hub>=0.15.1 in /home/utkarsh/miniconda3/envs/pytorch_env/lib/python3.8/site-packages (from sentence_transformers) (0.22.2)\n",
            "Requirement already satisfied: Pillow in /home/utkarsh/miniconda3/envs/pytorch_env/lib/python3.8/site-packages (from sentence_transformers) (10.2.0)\n",
            "Requirement already satisfied: filelock in /home/utkarsh/miniconda3/envs/pytorch_env/lib/python3.8/site-packages (from huggingface-hub>=0.15.1->sentence_transformers) (3.13.1)\n",
            "Requirement already satisfied: fsspec>=2023.5.0 in /home/utkarsh/miniconda3/envs/pytorch_env/lib/python3.8/site-packages (from huggingface-hub>=0.15.1->sentence_transformers) (2024.3.1)\n",
            "Requirement already satisfied: packaging>=20.9 in /home/utkarsh/miniconda3/envs/pytorch_env/lib/python3.8/site-packages (from huggingface-hub>=0.15.1->sentence_transformers) (24.0)\n",
            "Requirement already satisfied: pyyaml>=5.1 in /home/utkarsh/miniconda3/envs/pytorch_env/lib/python3.8/site-packages (from huggingface-hub>=0.15.1->sentence_transformers) (6.0.1)\n",
            "Requirement already satisfied: requests in /home/utkarsh/miniconda3/envs/pytorch_env/lib/python3.8/site-packages (from huggingface-hub>=0.15.1->sentence_transformers) (2.31.0)\n",
            "Requirement already satisfied: typing-extensions>=3.7.4.3 in /home/utkarsh/miniconda3/envs/pytorch_env/lib/python3.8/site-packages (from huggingface-hub>=0.15.1->sentence_transformers) (4.9.0)\n",
            "Requirement already satisfied: sympy in /home/utkarsh/miniconda3/envs/pytorch_env/lib/python3.8/site-packages (from torch>=1.11.0->sentence_transformers) (1.12)\n",
            "Requirement already satisfied: networkx in /home/utkarsh/miniconda3/envs/pytorch_env/lib/python3.8/site-packages (from torch>=1.11.0->sentence_transformers) (3.1)\n",
            "Requirement already satisfied: jinja2 in /home/utkarsh/miniconda3/envs/pytorch_env/lib/python3.8/site-packages (from torch>=1.11.0->sentence_transformers) (3.1.3)\n",
            "Requirement already satisfied: nvidia-cuda-nvrtc-cu12==12.1.105 in /home/utkarsh/miniconda3/envs/pytorch_env/lib/python3.8/site-packages (from torch>=1.11.0->sentence_transformers) (12.1.105)\n",
            "Requirement already satisfied: nvidia-cuda-runtime-cu12==12.1.105 in /home/utkarsh/miniconda3/envs/pytorch_env/lib/python3.8/site-packages (from torch>=1.11.0->sentence_transformers) (12.1.105)\n",
            "Requirement already satisfied: nvidia-cuda-cupti-cu12==12.1.105 in /home/utkarsh/miniconda3/envs/pytorch_env/lib/python3.8/site-packages (from torch>=1.11.0->sentence_transformers) (12.1.105)\n",
            "Requirement already satisfied: nvidia-cudnn-cu12==8.9.2.26 in /home/utkarsh/miniconda3/envs/pytorch_env/lib/python3.8/site-packages (from torch>=1.11.0->sentence_transformers) (8.9.2.26)\n",
            "Requirement already satisfied: nvidia-cublas-cu12==12.1.3.1 in /home/utkarsh/miniconda3/envs/pytorch_env/lib/python3.8/site-packages (from torch>=1.11.0->sentence_transformers) (12.1.3.1)\n",
            "Requirement already satisfied: nvidia-cufft-cu12==11.0.2.54 in /home/utkarsh/miniconda3/envs/pytorch_env/lib/python3.8/site-packages (from torch>=1.11.0->sentence_transformers) (11.0.2.54)\n",
            "Requirement already satisfied: nvidia-curand-cu12==10.3.2.106 in /home/utkarsh/miniconda3/envs/pytorch_env/lib/python3.8/site-packages (from torch>=1.11.0->sentence_transformers) (10.3.2.106)\n",
            "Requirement already satisfied: nvidia-cusolver-cu12==11.4.5.107 in /home/utkarsh/miniconda3/envs/pytorch_env/lib/python3.8/site-packages (from torch>=1.11.0->sentence_transformers) (11.4.5.107)\n",
            "Requirement already satisfied: nvidia-cusparse-cu12==12.1.0.106 in /home/utkarsh/miniconda3/envs/pytorch_env/lib/python3.8/site-packages (from torch>=1.11.0->sentence_transformers) (12.1.0.106)\n",
            "Requirement already satisfied: nvidia-nccl-cu12==2.19.3 in /home/utkarsh/miniconda3/envs/pytorch_env/lib/python3.8/site-packages (from torch>=1.11.0->sentence_transformers) (2.19.3)\n",
            "Requirement already satisfied: nvidia-nvtx-cu12==12.1.105 in /home/utkarsh/miniconda3/envs/pytorch_env/lib/python3.8/site-packages (from torch>=1.11.0->sentence_transformers) (12.1.105)\n",
            "Requirement already satisfied: triton==2.2.0 in /home/utkarsh/miniconda3/envs/pytorch_env/lib/python3.8/site-packages (from torch>=1.11.0->sentence_transformers) (2.2.0)\n",
            "Requirement already satisfied: nvidia-nvjitlink-cu12 in /home/utkarsh/miniconda3/envs/pytorch_env/lib/python3.8/site-packages (from nvidia-cusolver-cu12==11.4.5.107->torch>=1.11.0->sentence_transformers) (12.4.127)\n",
            "Requirement already satisfied: regex!=2019.12.17 in /home/utkarsh/miniconda3/envs/pytorch_env/lib/python3.8/site-packages (from transformers<5.0.0,>=4.32.0->sentence_transformers) (2023.12.25)\n",
            "Requirement already satisfied: tokenizers<0.19,>=0.14 in /home/utkarsh/miniconda3/envs/pytorch_env/lib/python3.8/site-packages (from transformers<5.0.0,>=4.32.0->sentence_transformers) (0.15.2)\n",
            "Requirement already satisfied: safetensors>=0.4.1 in /home/utkarsh/miniconda3/envs/pytorch_env/lib/python3.8/site-packages (from transformers<5.0.0,>=4.32.0->sentence_transformers) (0.4.2)\n",
            "Requirement already satisfied: joblib>=1.1.1 in /home/utkarsh/miniconda3/envs/pytorch_env/lib/python3.8/site-packages (from scikit-learn->sentence_transformers) (1.4.0)\n",
            "Requirement already satisfied: threadpoolctl>=2.0.0 in /home/utkarsh/miniconda3/envs/pytorch_env/lib/python3.8/site-packages (from scikit-learn->sentence_transformers) (3.4.0)\n",
            "Requirement already satisfied: MarkupSafe>=2.0 in /home/utkarsh/miniconda3/envs/pytorch_env/lib/python3.8/site-packages (from jinja2->torch>=1.11.0->sentence_transformers) (2.1.3)\n",
            "Requirement already satisfied: charset-normalizer<4,>=2 in /home/utkarsh/miniconda3/envs/pytorch_env/lib/python3.8/site-packages (from requests->huggingface-hub>=0.15.1->sentence_transformers) (2.0.4)\n",
            "Requirement already satisfied: idna<4,>=2.5 in /home/utkarsh/miniconda3/envs/pytorch_env/lib/python3.8/site-packages (from requests->huggingface-hub>=0.15.1->sentence_transformers) (3.4)\n",
            "Requirement already satisfied: urllib3<3,>=1.21.1 in /home/utkarsh/miniconda3/envs/pytorch_env/lib/python3.8/site-packages (from requests->huggingface-hub>=0.15.1->sentence_transformers) (2.1.0)\n",
            "Requirement already satisfied: certifi>=2017.4.17 in /home/utkarsh/miniconda3/envs/pytorch_env/lib/python3.8/site-packages (from requests->huggingface-hub>=0.15.1->sentence_transformers) (2024.2.2)\n",
            "Requirement already satisfied: mpmath>=0.19 in /home/utkarsh/miniconda3/envs/pytorch_env/lib/python3.8/site-packages (from sympy->torch>=1.11.0->sentence_transformers) (1.3.0)\n"
          ]
        }
      ],
      "source": [
        "! pip install transformers\n",
        "! pip install sentence_transformers"
      ]
    },
    {
      "cell_type": "code",
      "execution_count": 2,
      "metadata": {
        "id": "zx7jBe7Xdjf_"
      },
      "outputs": [
        {
          "name": "stderr",
          "output_type": "stream",
          "text": [
            "/home/utkarsh/miniconda3/envs/pytorch_env/lib/python3.8/site-packages/tqdm/auto.py:21: TqdmWarning: IProgress not found. Please update jupyter and ipywidgets. See https://ipywidgets.readthedocs.io/en/stable/user_install.html\n",
            "  from .autonotebook import tqdm as notebook_tqdm\n"
          ]
        }
      ],
      "source": [
        "import pandas as pd\n",
        "import numpy as np\n",
        "import torch\n",
        "import torch.nn as nn\n",
        "import torch.nn.functional as F\n",
        "import torch.optim as optim\n",
        "from torch.utils.data import DataLoader, Dataset\n",
        "\n",
        "from tqdm import tqdm\n",
        "from sentence_transformers import SentenceTransformer, util\n",
        "\n",
        "import pickle\n",
        "import os"
      ]
    },
    {
      "cell_type": "code",
      "execution_count": 3,
      "metadata": {
        "colab": {
          "base_uri": "https://localhost:8080/"
        },
        "id": "0eSJjNx6dpBH",
        "outputId": "d489b20d-e6b4-4bb7-b7f3-0ac3d5bf0e7b"
      },
      "outputs": [
        {
          "data": {
            "text/plain": [
              "device(type='cuda')"
            ]
          },
          "execution_count": 3,
          "metadata": {},
          "output_type": "execute_result"
        }
      ],
      "source": [
        "DEVICE = torch.device(\"cuda\" if torch.cuda.is_available() else \"cpu\")\n",
        "\n",
        "# disable CUDNN \n",
        "\n",
        "torch.backends.cudnn.enabled = False\n",
        "\n",
        "DEVICE"
      ]
    },
    {
      "cell_type": "markdown",
      "metadata": {
        "id": "DvKNoSA2sLJJ"
      },
      "source": [
        "### Data *engneering*"
      ]
    },
    {
      "cell_type": "markdown",
      "metadata": {
        "id": "DZGuyBGWd3DT"
      },
      "source": [
        "### **Models**"
      ]
    },
    {
      "cell_type": "code",
      "execution_count": 4,
      "metadata": {
        "colab": {
          "base_uri": "https://localhost:8080/"
        },
        "id": "x2u6fAXLBJHF",
        "outputId": "a76bb0eb-ad38-4994-fa45-7b4f653395a4"
      },
      "outputs": [],
      "source": [
        "import torch\n",
        "import torch.nn as nn\n",
        "import torch.nn.functional as F\n",
        "\n",
        "class ERC_CNN(nn.Module):\n",
        "    def __init__(self, in_channels, mid_channels, out_channels, input_size, hidden_size, num_layers, mlp_hidden_size, output_size):\n",
        "        super(ERC_CNN, self).__init__()\n",
        "        \"\"\"\n",
        "        ERC-CNN Module combining CNN, BiLSTM, and MLP\n",
        "        Input shape: (batch_size, in_channels, width, length)\n",
        "        Output shape: (batch_size, seq_length, output_size)\n",
        "        \"\"\"\n",
        "        # CNN layers\n",
        "        self.conv1 = nn.Conv2d(in_channels, mid_channels, kernel_size=(1, 1))\n",
        "        self.conv2 = nn.Conv2d(mid_channels, out_channels, kernel_size=(1, 1))\n",
        "\n",
        "        # BiLSTM layer\n",
        "        self.bilstm = nn.LSTM(input_size, hidden_size, num_layers=num_layers, batch_first=True, bidirectional=True)\n",
        "        \n",
        "        # MLP layers\n",
        "        self.fc1 = nn.Linear(hidden_size * 2, mlp_hidden_size)\n",
        "        self.fc2 = nn.Linear(mlp_hidden_size, output_size)\n",
        "\n",
        "    def forward(self, x):\n",
        "        # CNN\n",
        "        x = F.relu(self.conv1(x))\n",
        "        x = self.conv2(x)\n",
        "\n",
        "        # BiLSTM\n",
        "        x = x.squeeze(1)  # Remove the singleton dimension\n",
        "        x, _ = self.bilstm(x)\n",
        "\n",
        "        # MLP\n",
        "        x = F.relu(self.fc1(x))\n",
        "        x = self.fc2(x)\n",
        "\n",
        "        return x"
      ]
    },
    {
      "cell_type": "markdown",
      "metadata": {
        "id": "11cpCpITt8rc"
      },
      "source": [
        "### DataLoader"
      ]
    },
    {
      "cell_type": "code",
      "execution_count": 5,
      "metadata": {
        "id": "IsxcMmfTuAh7"
      },
      "outputs": [
        {
          "data": {
            "text/plain": [
              "\"\\nclass MyDataset(Dataset):\\n    def __init__(self, json_path = 'train_file.json'):\\n        self.embedding_model = SentenceTransformer('all-mpnet-base-v2')\\n        self.train_data = pd.read_json(json_path)\\n        emotions = ['surprise', 'neutral', 'disgust', 'fear', 'sadness', 'anger', 'joy']\\n        self.emotion_dict = {}\\n        for i, emotion in enumerate(emotions):\\n            self.emotion_dict[emotion] = i\\n\\n    def generate_cnn_embeddings(self, row):\\n        speakers = row['speakers']\\n\\n        embeddings_list = self.embedding_model.encode(row['utterances'])\\n\\n        speaker_index = {}\\n        index = 0\\n        for speaker in speakers:\\n            if speaker not in speaker_index:\\n                speaker_index[speaker] = index\\n                index += 1\\n\\n        S = len(speaker_index)\\n        N = len(speakers)\\n        embeddings_tensor = np.zeros((max(10 , S), N, 768))\\n        for i, (speaker, embedding) in enumerate(zip(speakers, embeddings_list)):\\n            idx = speaker_index[speaker]\\n            embeddings_tensor[idx, i, :] = embedding\\n        return embeddings_tensor\\n\\n    def gen_emotion_matrix(self, row):\\n        emotions = row['emotions']\\n        emotion_matrix = np.zeros((len(emotions), 7))\\n        for idx, emotion in enumerate(emotions):\\n            emotion_matrix[idx][self.emotion_dict[emotion]] = 1\\n        return emotion_matrix\\n\\n\\n    def __len__(self):\\n        return len(self.train_data)\\n\\n    def __getitem__(self, idx):\\n        X = self.generate_cnn_embeddings(self.train_data.iloc[idx])\\n        Y = self.gen_emotion_matrix(self.train_data.iloc[idx])\\n        return X, Y\\n\\n\""
            ]
          },
          "execution_count": 5,
          "metadata": {},
          "output_type": "execute_result"
        }
      ],
      "source": [
        "from torch.utils.data import DataLoader, Dataset\n",
        "\n",
        "'''\n",
        "class MyDataset(Dataset):\n",
        "    def __init__(self, json_path = 'train_file.json'):\n",
        "        self.embedding_model = SentenceTransformer('all-mpnet-base-v2')\n",
        "        self.train_data = pd.read_json(json_path)\n",
        "        emotions = ['surprise', 'neutral', 'disgust', 'fear', 'sadness', 'anger', 'joy']\n",
        "        self.emotion_dict = {}\n",
        "        for i, emotion in enumerate(emotions):\n",
        "            self.emotion_dict[emotion] = i\n",
        "\n",
        "    def generate_cnn_embeddings(self, row):\n",
        "        speakers = row['speakers']\n",
        "\n",
        "        embeddings_list = self.embedding_model.encode(row['utterances'])\n",
        "\n",
        "        speaker_index = {}\n",
        "        index = 0\n",
        "        for speaker in speakers:\n",
        "            if speaker not in speaker_index:\n",
        "                speaker_index[speaker] = index\n",
        "                index += 1\n",
        "\n",
        "        S = len(speaker_index)\n",
        "        N = len(speakers)\n",
        "        embeddings_tensor = np.zeros((max(10 , S), N, 768))\n",
        "        for i, (speaker, embedding) in enumerate(zip(speakers, embeddings_list)):\n",
        "            idx = speaker_index[speaker]\n",
        "            embeddings_tensor[idx, i, :] = embedding\n",
        "        return embeddings_tensor\n",
        "\n",
        "    def gen_emotion_matrix(self, row):\n",
        "        emotions = row['emotions']\n",
        "        emotion_matrix = np.zeros((len(emotions), 7))\n",
        "        for idx, emotion in enumerate(emotions):\n",
        "            emotion_matrix[idx][self.emotion_dict[emotion]] = 1\n",
        "        return emotion_matrix\n",
        "\n",
        "\n",
        "    def __len__(self):\n",
        "        return len(self.train_data)\n",
        "\n",
        "    def __getitem__(self, idx):\n",
        "        X = self.generate_cnn_embeddings(self.train_data.iloc[idx])\n",
        "        Y = self.gen_emotion_matrix(self.train_data.iloc[idx])\n",
        "        return X, Y\n",
        "\n",
        "'''"
      ]
    },
    {
      "cell_type": "code",
      "execution_count": 6,
      "metadata": {},
      "outputs": [],
      "source": [
        "import json\n",
        "\n",
        "class MyDataset(Dataset):\n",
        "    def __init__(self, json_path='train_file.json'):\n",
        "        with open(json_path, 'r') as file:\n",
        "            self.data = json.load(file)\n",
        "        self.embedding_model = SentenceTransformer('all-mpnet-base-v2')\n",
        "        self.emotion_dict = {\n",
        "            'surprise': 0, 'neutral': 1, 'disgust': 2,\n",
        "            'fear': 3, 'sadness': 4, 'anger': 5, 'joy': 6\n",
        "        }\n",
        "\n",
        "    def generate_cnn_embeddings(self, conversation):\n",
        "        speakers = [utterance['speaker'] for utterance in conversation]\n",
        "        texts = [utterance['text'] for utterance in conversation]\n",
        "\n",
        "        embeddings_list = self.embedding_model.encode(texts)\n",
        "        \n",
        "        speaker_index = {}\n",
        "        for index, speaker in enumerate(speakers):\n",
        "            if speaker not in speaker_index:\n",
        "                speaker_index[speaker] = len(speaker_index)\n",
        "        \n",
        "        S = len(speaker_index)\n",
        "        N = len(speakers)\n",
        "        embeddings_tensor = np.zeros((max(10, S), N, 768))\n",
        "        for i, (speaker, embedding) in enumerate(zip(speakers, embeddings_list)):\n",
        "            idx = speaker_index[speaker]\n",
        "            embeddings_tensor[idx, i, :] = embedding\n",
        "        return embeddings_tensor\n",
        "\n",
        "    def gen_emotion_matrix(self, conversation):\n",
        "        emotions = [utterance['emotion'] for utterance in conversation]\n",
        "        emotion_matrix = np.zeros((len(emotions), 7))\n",
        "        for idx, emotion in enumerate(emotions):\n",
        "            emotion_matrix[idx][self.emotion_dict[emotion]] = 1\n",
        "        return emotion_matrix\n",
        "\n",
        "    def __len__(self):\n",
        "        return len(self.data)\n",
        "\n",
        "    def __getitem__(self, idx):\n",
        "        conversation = self.data[idx]['conversation']\n",
        "        X = self.generate_cnn_embeddings(conversation)\n",
        "        Y = self.gen_emotion_matrix(conversation)\n",
        "        return torch.tensor(X, dtype=torch.float32), torch.tensor(Y, dtype=torch.float32)\n"
      ]
    },
    {
      "cell_type": "markdown",
      "metadata": {
        "id": "tKESJpdcsdNh"
      },
      "source": [
        "### Model"
      ]
    },
    {
      "cell_type": "code",
      "execution_count": 7,
      "metadata": {
        "id": "s6ZRgvvkS9bj"
      },
      "outputs": [],
      "source": [
        "# Define parameters\n",
        "batch_size = 1\n",
        "speakers = 10  # max_speakers\n",
        "num_utterances = 24  # dialogue_length\n",
        "embedding_size = 768\n",
        "\n",
        "cnn_mid_channels = 3\n",
        "cnn_out_channels = 1\n",
        "\n",
        "hidden_lstm = 64\n",
        "layers_lstm = 1\n",
        "\n",
        "inputs_mlp = hidden_lstm * 2\n",
        "hidden_mlp = 64\n",
        "output_mlp = number_of_emotions = 7\n",
        "\n",
        "\n",
        "# Initialize the ERC_CNN class\n",
        "model = ERC_CNN(in_channels=speakers,\n",
        "                mid_channels=cnn_mid_channels,\n",
        "                out_channels=cnn_out_channels,\n",
        "                input_size=embedding_size,\n",
        "                hidden_size=hidden_lstm,\n",
        "                num_layers=layers_lstm,\n",
        "                mlp_hidden_size=hidden_mlp,\n",
        "                output_size=output_mlp)\n",
        "\n",
        "# set the layer bilstm to not require gradients\n",
        "# for param in model.bilstm.parameters():\n",
        "#     param.requires_grad = False\n",
        "\n",
        "# input_tensor = torch.randn(batch_size, speakers, num_utterances, embedding_size)"
      ]
    },
    {
      "cell_type": "code",
      "execution_count": 8,
      "metadata": {
        "colab": {
          "base_uri": "https://localhost:8080/"
        },
        "id": "xZfwGkcOrwnL",
        "outputId": "ccaa2ef6-acaf-4e1e-b4a7-53432e20c902"
      },
      "outputs": [
        {
          "name": "stderr",
          "output_type": "stream",
          "text": [
            "1236it [00:21, 58.45it/s]\n"
          ]
        },
        {
          "name": "stdout",
          "output_type": "stream",
          "text": [
            "Epoch [1/5], Loss: 3.3362\n"
          ]
        },
        {
          "name": "stderr",
          "output_type": "stream",
          "text": [
            "138it [00:01, 70.34it/s]\n"
          ]
        },
        {
          "name": "stdout",
          "output_type": "stream",
          "text": [
            "Validation Loss: 2.9584\n"
          ]
        },
        {
          "name": "stderr",
          "output_type": "stream",
          "text": [
            "1236it [00:20, 60.65it/s]\n"
          ]
        },
        {
          "name": "stdout",
          "output_type": "stream",
          "text": [
            "Epoch [2/5], Loss: 3.0123\n"
          ]
        },
        {
          "name": "stderr",
          "output_type": "stream",
          "text": [
            "138it [00:01, 70.58it/s]\n"
          ]
        },
        {
          "name": "stdout",
          "output_type": "stream",
          "text": [
            "Validation Loss: 2.8890\n"
          ]
        },
        {
          "name": "stderr",
          "output_type": "stream",
          "text": [
            "1236it [00:20, 60.41it/s]\n"
          ]
        },
        {
          "name": "stdout",
          "output_type": "stream",
          "text": [
            "Epoch [3/5], Loss: 2.9204\n"
          ]
        },
        {
          "name": "stderr",
          "output_type": "stream",
          "text": [
            "138it [00:01, 70.09it/s]\n"
          ]
        },
        {
          "name": "stdout",
          "output_type": "stream",
          "text": [
            "Validation Loss: 2.8549\n"
          ]
        },
        {
          "name": "stderr",
          "output_type": "stream",
          "text": [
            "1236it [00:20, 59.27it/s]\n"
          ]
        },
        {
          "name": "stdout",
          "output_type": "stream",
          "text": [
            "Epoch [4/5], Loss: 2.8686\n"
          ]
        },
        {
          "name": "stderr",
          "output_type": "stream",
          "text": [
            "138it [00:01, 70.60it/s]\n"
          ]
        },
        {
          "name": "stdout",
          "output_type": "stream",
          "text": [
            "Validation Loss: 2.8401\n"
          ]
        },
        {
          "name": "stderr",
          "output_type": "stream",
          "text": [
            "1236it [00:20, 59.67it/s]\n"
          ]
        },
        {
          "name": "stdout",
          "output_type": "stream",
          "text": [
            "Epoch [5/5], Loss: 2.8346\n"
          ]
        },
        {
          "name": "stderr",
          "output_type": "stream",
          "text": [
            "138it [00:01, 69.75it/s]"
          ]
        },
        {
          "name": "stdout",
          "output_type": "stream",
          "text": [
            "Validation Loss: 2.8361\n"
          ]
        },
        {
          "name": "stderr",
          "output_type": "stream",
          "text": [
            "\n"
          ]
        }
      ],
      "source": [
        "import torch\n",
        "import torch.nn as nn\n",
        "import torch.optim as optim\n",
        "from tqdm import tqdm\n",
        "\n",
        "# Define your model, loss function, and optimizer\n",
        "folder_path = \"/content/drive/MyDrive/IIITD/Courses/nlp/Assignment 4/\"\n",
        "folder_path = \"\"\n",
        "\n",
        "path_train_file = folder_path+\"train_file.json\"\n",
        "\n",
        "dataset = MyDataset(path_train_file)\n",
        "criterion = nn.CrossEntropyLoss().to(DEVICE)\n",
        "\n",
        "model = ERC_CNN(in_channels=speakers,\n",
        "                mid_channels=cnn_mid_channels,\n",
        "                out_channels=cnn_out_channels,\n",
        "                input_size=embedding_size,\n",
        "                hidden_size=hidden_lstm,\n",
        "                num_layers=layers_lstm,\n",
        "                mlp_hidden_size=hidden_mlp,\n",
        "                output_size=output_mlp).to(DEVICE)\n",
        "\n",
        "for param in model.bilstm.parameters():\n",
        "    param.requires_grad = False\n",
        "\n",
        "optimizer = optim.Adam(model.parameters(), lr=0.001)\n",
        "dataloader = DataLoader(dataset, batch_size=1, shuffle=False)\n",
        "\n",
        "val_dataset = MyDataset(folder_path+\"val_file.json\")\n",
        "val_dataloader = DataLoader(val_dataset, batch_size=1, shuffle=False)\n",
        "\n",
        "train_losses = []\n",
        "val_losses = []\n",
        "\n",
        "# if the model is already trained, load the model\n",
        "if os.path.exists(folder_path+\"M1_assignment.pth\"):\n",
        "    model.load_state_dict(torch.load(folder_path+\"M1_assignment.pth\"))\n",
        "\n",
        "\n",
        "\n",
        "num_epochs = 5\n",
        "for epoch in range(num_epochs):\n",
        "    model.train()\n",
        "    running_loss = 0.0\n",
        "    for i, (inputs, labels) in tqdm(enumerate(dataloader)):\n",
        "        inputs = inputs.to(DEVICE)\n",
        "        labels = labels.to(DEVICE)\n",
        "\n",
        "        optimizer.zero_grad()  # Zero the parameter gradients\n",
        "\n",
        "        # Forward pass\n",
        "        outputs = model(inputs.float())\n",
        "\n",
        "        # Compute the loss\n",
        "        loss = criterion(outputs, labels)\n",
        "\n",
        "        # Backward pass\n",
        "        loss.backward()\n",
        "\n",
        "        # Update model parameters\n",
        "        optimizer.step()\n",
        "\n",
        "        # Print statistics\n",
        "        running_loss += loss.item() * inputs.size(0)\n",
        "\n",
        "        # tqdm.write(f\"Training in Progress: {i+1}/{6000}\")\n",
        "\n",
        "    # Print average loss for the epoch\n",
        "    epoch_loss = running_loss / len(dataloader.dataset)\n",
        "    print(f\"Epoch [{epoch+1}/{num_epochs}], Loss: {epoch_loss:.4f}\")\n",
        "\n",
        "    train_losses.append(epoch_loss)\n",
        "\n",
        "\n",
        "    running_loss = 0.0\n",
        "    model.eval()\n",
        "    with torch.no_grad():\n",
        "        for i, (inputs, labels) in tqdm(enumerate(val_dataloader)):\n",
        "            inputs = inputs.to(DEVICE)\n",
        "            labels = labels.to(DEVICE)\n",
        "\n",
        "            # Forward pass\n",
        "            outputs = model(inputs.float())\n",
        "            loss = criterion(outputs, labels)\n",
        "            running_loss += loss.item() * inputs.size(0)\n",
        "\n",
        "    epoch_loss = running_loss / len(val_dataloader.dataset)\n",
        "    print(f\"Validation Loss: {epoch_loss:.4f}\")\n",
        "\n",
        "    val_losses.append(epoch_loss)\n",
        "\n",
        "    if epoch % 2 == 0:\n",
        "        torch.save(model.state_dict(), folder_path+f\"1_erc_cnn_model{epoch}.pth\")"
      ]
    },
    {
      "cell_type": "code",
      "execution_count": 9,
      "metadata": {},
      "outputs": [
        {
          "data": {
            "image/png": "[encoded data removed]",
            "text/plain": [
              "<Figure size 640x480 with 1 Axes>"
            ]
          },
          "metadata": {},
          "output_type": "display_data"
        }
      ],
      "source": [
        "import matplotlib.pyplot as plt\n",
        "\n",
        "plt.plot(train_losses, label='Training loss')\n",
        "#plt.plot(val_losses, label='Validation loss')\n",
        "plt.legend()\n",
        "plt.show()\n"
      ]
    },
    {
      "cell_type": "code",
      "execution_count": 10,
      "metadata": {},
      "outputs": [
        {
          "data": {
            "image/png": "[encoded data removed]",
            "text/plain": [
              "<Figure size 640x480 with 1 Axes>"
            ]
          },
          "metadata": {},
          "output_type": "display_data"
        }
      ],
      "source": [
        "plt.plot(val_losses, label='Validation loss')\n",
        "plt.legend()\n",
        "\n",
        "plt.show()\n"
      ]
    },
    {
      "cell_type": "code",
      "execution_count": 11,
      "metadata": {},
      "outputs": [],
      "source": [
        "# save the model\n",
        "torch.save(model.state_dict(), folder_path+\"M1.pth\")"
      ]
    },
    {
      "cell_type": "code",
      "execution_count": 12,
      "metadata": {},
      "outputs": [
        {
          "data": {
            "text/plain": [
              "ERC_CNN(\n",
              "  (conv1): Conv2d(10, 3, kernel_size=(1, 1), stride=(1, 1))\n",
              "  (conv2): Conv2d(3, 1, kernel_size=(1, 1), stride=(1, 1))\n",
              "  (bilstm): LSTM(768, 64, batch_first=True, bidirectional=True)\n",
              "  (fc1): Linear(in_features=128, out_features=64, bias=True)\n",
              "  (fc2): Linear(in_features=64, out_features=7, bias=True)\n",
              ")"
            ]
          },
          "execution_count": 12,
          "metadata": {},
          "output_type": "execute_result"
        }
      ],
      "source": [
        "import torch\n",
        "\n",
        "DEVICE = torch.device(\"cuda\" if torch.cuda.is_available() else \"cpu\")\n",
        "\n",
        "model = ERC_CNN(in_channels=speakers,\n",
        "                mid_channels=cnn_mid_channels,\n",
        "                out_channels=cnn_out_channels,\n",
        "                input_size=embedding_size,\n",
        "                hidden_size=hidden_lstm,\n",
        "                num_layers=layers_lstm,\n",
        "                mlp_hidden_size=hidden_mlp,\n",
        "                output_size=output_mlp)\n",
        "\n",
        "state_dict = torch.load('M1.pth')\n",
        "model.load_state_dict(state_dict)\n",
        "\n",
        "model = model.to(DEVICE)\n",
        "\n",
        "l = ['surprise', 'neutral', 'disgust', 'fear', 'sadness', 'anger', 'joy']\n",
        "\n",
        "model.eval()"
      ]
    },
    {
      "cell_type": "code",
      "execution_count": 13,
      "metadata": {},
      "outputs": [],
      "source": [
        "import torch\n",
        "from sklearn.metrics import f1_score\n",
        "from sklearn.metrics import confusion_matrix\n",
        "\n",
        "def get_F1(model , dataloader , DEVICE):\n",
        "    all_predicted=[]\n",
        "    all_true=[]\n",
        "\n",
        "    for inputs,labels in tqdm(dataloader):\n",
        "        inputs=inputs.to(DEVICE)\n",
        "        labels=labels.to(DEVICE)\n",
        "        with torch.no_grad():\n",
        "            outputs=model(inputs.float())\n",
        "        predicted=torch.argmax(outputs,dim=2).cpu().numpy().flatten()\n",
        "        true_labels=torch.argmax(labels,dim=2).cpu().numpy().flatten()\n",
        "        all_predicted.extend(predicted)\n",
        "        all_true.extend(true_labels)\n",
        "\n",
        "    f1_scores_dict = {\n",
        "        'surprise': f1_score(all_true, all_predicted, labels=[0], average='weighted'),\n",
        "        'neutral': f1_score(all_true, all_predicted, labels=[1], average='weighted'),\n",
        "        'disgust': f1_score(all_true, all_predicted, labels=[2], average='weighted'),\n",
        "        'fear': f1_score(all_true, all_predicted, labels=[3], average='weighted'),\n",
        "        'sadness': f1_score(all_true, all_predicted, labels=[4], average='weighted'),\n",
        "        'anger': f1_score(all_true, all_predicted, labels=[5], average='weighted'),\n",
        "        'joy': f1_score(all_true, all_predicted, labels=[6], average='weighted'),\n",
        "        'overall': f1_score(all_true, all_predicted, average='weighted')\n",
        "    }    \n",
        "\n",
        "    cm = confusion_matrix(all_true, all_predicted)\n",
        "\n",
        "    print(f1_scores_dict)\n",
        "\n",
        "    import seaborn as sns\n",
        "    import matplotlib.pyplot as plt\n",
        "\n",
        "    plt.figure(figsize=(10, 7))\n",
        "    sns.heatmap(cm, annot=True, fmt='g', cmap='Blues', xticklabels=l, yticklabels=l)\n",
        "    plt.xlabel('Predicted')\n",
        "    plt.ylabel('True')\n",
        "    plt.title('Confusion Matrix')\n",
        "    plt.show()\n",
        "\n",
        "    from sklearn.metrics import accuracy_score , precision_score , recall_score\n",
        "    acc = accuracy_score(all_true, all_predicted)\n",
        "    p = precision_score(all_true, all_predicted, average='macro')\n",
        "    r = recall_score(all_true, all_predicted, average='macro')\n",
        "    print(\"ACCURACY: \", acc)\n",
        "    print(\"PRECISION: \" , p)\n",
        "    print(\"RECALL: \" , r)\n",
        "\n",
        "    return f1_scores_dict , acc , p , r"
      ]
    },
    {
      "cell_type": "code",
      "execution_count": 14,
      "metadata": {},
      "outputs": [
        {
          "name": "stderr",
          "output_type": "stream",
          "text": [
            "100%|██████████| 1236/1236 [00:18<00:00, 67.15it/s]\n"
          ]
        },
        {
          "name": "stdout",
          "output_type": "stream",
          "text": [
            "{'surprise': 0.4906832298136645, 'neutral': 0.7716312056737589, 'disgust': 0.4437689969604863, 'fear': 0.366412213740458, 'sadness': 0.4997455470737913, 'anger': 0.575084175084175, 'joy': 0.5924220963172805, 'overall': 0.6360472472521684}\n"
          ]
        },
        {
          "data": {
            "image/png": "[encoded data removed]",
            "text/plain": [
              "<Figure size 1000x700 with 2 Axes>"
            ]
          },
          "metadata": {},
          "output_type": "display_data"
        },
        {
          "name": "stdout",
          "output_type": "stream",
          "text": [
            "ACCURACY:  0.6418638692363992\n",
            "PRECISION:  0.6134611777964306\n",
            "RECALL:  0.5197402708911579\n"
          ]
        },
        {
          "data": {
            "text/plain": [
              "{'surprise': 0.4906832298136645,\n",
              " 'neutral': 0.7716312056737589,\n",
              " 'disgust': 0.4437689969604863,\n",
              " 'fear': 0.366412213740458,\n",
              " 'sadness': 0.4997455470737913,\n",
              " 'anger': 0.575084175084175,\n",
              " 'joy': 0.5924220963172805,\n",
              " 'overall': 0.6360472472521684}"
            ]
          },
          "execution_count": 14,
          "metadata": {},
          "output_type": "execute_result"
        }
      ],
      "source": [
        "# TRAINING \n",
        "dataset = MyDataset(\"train_file.json\")\n",
        "dataloader = DataLoader(dataset, batch_size=1, shuffle=False)\n",
        "\n",
        "train_f1 , acc_train , precision_train , recall_train = get_F1(model , dataloader , DEVICE)\n",
        "\n",
        "train_f1"
      ]
    },
    {
      "cell_type": "code",
      "execution_count": 15,
      "metadata": {},
      "outputs": [
        {
          "name": "stderr",
          "output_type": "stream",
          "text": [
            "100%|██████████| 138/138 [00:01<00:00, 69.57it/s]\n"
          ]
        },
        {
          "name": "stdout",
          "output_type": "stream",
          "text": [
            "{'surprise': 0.3192488262910798, 'neutral': 0.7688356164383562, 'disgust': 0.39506172839506176, 'fear': 0.41791044776119396, 'sadness': 0.43317972350230416, 'anger': 0.5675675675675674, 'joy': 0.5747508305647842, 'overall': 0.6034078621884279}\n"
          ]
        },
        {
          "data": {
            "image/png": "[encoded data removed]",
            "text/plain": [
              "<Figure size 1000x700 with 2 Axes>"
            ]
          },
          "metadata": {},
          "output_type": "display_data"
        },
        {
          "name": "stdout",
          "output_type": "stream",
          "text": [
            "ACCURACY:  0.6180030257186082\n",
            "PRECISION:  0.58294984098929\n",
            "RECALL:  0.4941887504063924\n"
          ]
        },
        {
          "data": {
            "text/plain": [
              "{'surprise': 0.3192488262910798,\n",
              " 'neutral': 0.7688356164383562,\n",
              " 'disgust': 0.39506172839506176,\n",
              " 'fear': 0.41791044776119396,\n",
              " 'sadness': 0.43317972350230416,\n",
              " 'anger': 0.5675675675675674,\n",
              " 'joy': 0.5747508305647842,\n",
              " 'overall': 0.6034078621884279}"
            ]
          },
          "execution_count": 15,
          "metadata": {},
          "output_type": "execute_result"
        }
      ],
      "source": [
        "# VALIDATION\n",
        "val_dataset = MyDataset(\"val_file.json\")\n",
        "val_dataloader = DataLoader(val_dataset, batch_size=1, shuffle=False)\n",
        "test_f1  , acc_val , precision_val , recall_val = get_F1(model , val_dataloader , DEVICE)\n",
        "\n",
        "test_f1 "
      ]
    },
    {
      "cell_type": "code",
      "execution_count": 16,
      "metadata": {},
      "outputs": [],
      "source": [
        "# make a csv with the following columns: \n",
        "# current-date-time , model-name , epochs , f1-score-train , f1-score-test , precision-train , precision-test , recall-train , recall-test , accuracy-train , accuracy-test\n",
        "\n",
        "import csv\n",
        "from datetime import datetime\n",
        "\n",
        "current_date_time = datetime.now().strftime(\"%Y-%m-%d %H:%M:%S\")\n",
        "model_name = \"M1\"\n",
        "epochs = num_epochs\n",
        "\n",
        "with open('results.csv', mode='a') as file:\n",
        "    writer = csv.writer(file)\n",
        "    writer.writerow([current_date_time, model_name, epochs, train_f1, test_f1, precision_train, precision_val, recall_train, recall_val, acc_train, acc_val])"
      ]
    },
    {
      "cell_type": "code",
      "execution_count": 17,
      "metadata": {},
      "outputs": [
        {
          "data": {
            "text/html": [
              "<div>\n",
              "<style scoped>\n",
              "    .dataframe tbody tr th:only-of-type {\n",
              "        vertical-align: middle;\n",
              "    }\n",
              "\n",
              "    .dataframe tbody tr th {\n",
              "        vertical-align: top;\n",
              "    }\n",
              "\n",
              "    .dataframe thead th {\n",
              "        text-align: right;\n",
              "    }\n",
              "</style>\n",
              "<table border=\"1\" class=\"dataframe\">\n",
              "  <thead>\n",
              "    <tr style=\"text-align: right;\">\n",
              "      <th></th>\n",
              "      <th>2024-04-25 22:24:14</th>\n",
              "      <th>M1</th>\n",
              "      <th>5</th>\n",
              "      <th>{'surprise': 0.4906832298136645, 'neutral': 0.7716312056737589, 'disgust': 0.4437689969604863, 'fear': 0.366412213740458, 'sadness': 0.4997455470737913, 'anger': 0.575084175084175, 'joy': 0.5924220963172805, 'overall': 0.6360472472521684}</th>\n",
              "      <th>{'surprise': 0.3192488262910798, 'neutral': 0.7688356164383562, 'disgust': 0.39506172839506176, 'fear': 0.41791044776119396, 'sadness': 0.43317972350230416, 'anger': 0.5675675675675674, 'joy': 0.5747508305647842, 'overall': 0.6034078621884279}</th>\n",
              "      <th>0.6134611777964306</th>\n",
              "      <th>0.58294984098929</th>\n",
              "      <th>0.5197402708911579</th>\n",
              "      <th>0.4941887504063924</th>\n",
              "      <th>0.6418638692363992</th>\n",
              "      <th>0.6180030257186082</th>\n",
              "    </tr>\n",
              "  </thead>\n",
              "  <tbody>\n",
              "  </tbody>\n",
              "</table>\n",
              "</div>"
            ],
            "text/plain": [
              "Empty DataFrame\n",
              "Columns: [2024-04-25 22:24:14, M1, 5, {'surprise': 0.4906832298136645, 'neutral': 0.7716312056737589, 'disgust': 0.4437689969604863, 'fear': 0.366412213740458, 'sadness': 0.4997455470737913, 'anger': 0.575084175084175, 'joy': 0.5924220963172805, 'overall': 0.6360472472521684}, {'surprise': 0.3192488262910798, 'neutral': 0.7688356164383562, 'disgust': 0.39506172839506176, 'fear': 0.41791044776119396, 'sadness': 0.43317972350230416, 'anger': 0.5675675675675674, 'joy': 0.5747508305647842, 'overall': 0.6034078621884279}, 0.6134611777964306, 0.58294984098929, 0.5197402708911579, 0.4941887504063924, 0.6418638692363992, 0.6180030257186082]\n",
              "Index: []"
            ]
          },
          "execution_count": 17,
          "metadata": {},
          "output_type": "execute_result"
        }
      ],
      "source": [
        "import pandas as pd \n",
        "\n",
        "df = pd.read_csv('results.csv')\n",
        "\n",
        "# disable truncation \n",
        "pd.set_option('display.max_rows', None)\n",
        "\n",
        "# dont truncate any entry \n",
        "\n",
        "pd.set_option('display.max_colwidth', None)\n",
        "\n",
        "df"
      ]
    },
    {
      "cell_type": "markdown",
      "metadata": {},
      "source": [
        "# Human evaluation"
      ]
    },
    {
      "cell_type": "code",
      "execution_count": 18,
      "metadata": {},
      "outputs": [
        {
          "name": "stdout",
          "output_type": "stream",
          "text": [
            "{'utterance_ID': 3, 'text': 'Wow , you guys , this is big .', 'speaker': 'Rachel', 'emotion': 'surprise'}\n",
            "Predicted:  joy\n",
            "True Labels:  surprise\n",
            "{'utterance_ID': 1, 'text': 'I can not believe it !', 'speaker': 'Phoebe', 'emotion': 'surprise'}\n",
            "Predicted:  surprise\n",
            "True Labels:  surprise\n",
            "{'utterance_ID': 9, 'text': 'Oh my God .', 'speaker': 'Rachel', 'emotion': 'surprise'}\n",
            "Predicted:  surprise\n",
            "True Labels:  surprise\n",
            "{'utterance_ID': 10, 'text': 'This actor friend and he would kill me if he thought I was doing this umm , but umm would it be possible for him to get an audition for your movie say on Thursday ?', 'speaker': 'Chandler', 'emotion': 'fear'}\n",
            "Predicted:  joy\n",
            "True Labels:  fear\n",
            "{'utterance_ID': 11, 'text': 'No !', 'speaker': 'Phoebe', 'emotion': 'fear'}\n",
            "Predicted:  anger\n",
            "True Labels:  fear\n",
            "{'utterance_ID': 8, 'text': 'Oh it is Bing , sir . I am sorry , I was just ah ...', 'speaker': 'Chandler', 'emotion': 'fear'}\n",
            "Predicted:  sadness\n",
            "True Labels:  fear\n",
            "{'utterance_ID': 12, 'text': 'I totally do not know what you are talking about .', 'speaker': 'Joey', 'emotion': 'neutral'}\n",
            "Predicted:  neutral\n",
            "True Labels:  neutral\n",
            "{'utterance_ID': 5, 'text': 'You just take a big , big swing .', 'speaker': 'Joey', 'emotion': 'neutral'}\n",
            "Predicted:  neutral\n",
            "True Labels:  neutral\n",
            "{'utterance_ID': 13, 'text': 'Hey .', 'speaker': 'Chandler', 'emotion': 'neutral'}\n",
            "Predicted:  neutral\n",
            "True Labels:  neutral\n"
          ]
        }
      ],
      "source": [
        "# take some utterane with emotion as \"surprise\" and predict its output using the model \n",
        "\n",
        "utterences = []\n",
        "\n",
        "for emotion in ['surprise' , 'fear' , 'neutral']: \n",
        "    for q in range(3): \n",
        "\n",
        "        import json\n",
        "        import random\n",
        "\n",
        "        with open(\"train_file.json\", \"r\") as file:\n",
        "            data = json.load(file)\n",
        "\n",
        "        surprise_data = []\n",
        "        for i in data:\n",
        "            for j in i['conversation']:\n",
        "                if j['emotion'] == emotion:\n",
        "                    surprise_data.append(j)\n",
        "\n",
        "        random_surprise = random.choice(surprise_data)\n",
        "\n",
        "        print(random_surprise)\n",
        "\n",
        "        utterance = random_surprise['text']\n",
        "        speaker = random_surprise['speaker']\n",
        "\n",
        "        model = ERC_CNN(in_channels=speakers, mid_channels=cnn_mid_channels, out_channels=cnn_out_channels, input_size=embedding_size, hidden_size=hidden_lstm, num_layers=layers_lstm, mlp_hidden_size=hidden_mlp, output_size=output_mlp)\n",
        "\n",
        "        state_dict = torch.load('M1.pth')\n",
        "\n",
        "        model.load_state_dict(state_dict)\n",
        "\n",
        "        model = model.to(DEVICE)\n",
        "\n",
        "        model.eval()\n",
        "\n",
        "\n",
        "        model.eval()\n",
        "        with torch.no_grad():\n",
        "            inputs = dataset.generate_cnn_embeddings([random_surprise])\n",
        "            inputs = torch.tensor(inputs, dtype=torch.float32)\n",
        "\n",
        "            labels = dataset.gen_emotion_matrix([random_surprise])\n",
        "            labels = torch.tensor(labels, dtype=torch.float32)\n",
        "\n",
        "            inputs = inputs.to(DEVICE)\n",
        "            labels = labels.to(DEVICE)\n",
        "\n",
        "            outputs = model(inputs.float())\n",
        "\n",
        "            prediction = torch.argmax(outputs).cpu().numpy().flatten()\n",
        "            true_labels = torch.argmax(labels).cpu().numpy().flatten()\n",
        "\n",
        "            dict = {\n",
        "                0: 'surprise',\n",
        "                1: 'neutral',\n",
        "                2: 'disgust',\n",
        "                3: 'fear',\n",
        "                4: 'sadness',\n",
        "                5: 'anger',\n",
        "                6: 'joy'\n",
        "            }\n",
        "\n",
        "            print(\"Predicted: \", dict[prediction[0]])\n",
        "            print(\"True Labels: \", dict[true_labels[0]])"
      ]
    }
  ],
  "metadata": {
    "colab": {
      "collapsed_sections": [
        "smgcJu_GusqE",
        "_GAcHnF5xINd",
        "mPbKl67CxLd6",
        "fAl2zH1iDui_",
        "U7uRQxKrxAEZ"
      ],
      "provenance": []
    },
    "kernelspec": {
      "display_name": "Python 3",
      "name": "python3"
    },
    "language_info": {
      "codemirror_mode": {
        "name": "ipython",
        "version": 3
      },
      "file_extension": ".py",
      "mimetype": "text/x-python",
      "name": "python",
      "nbconvert_exporter": "python",
      "pygments_lexer": "ipython3",
      "version": "3.8.19"
    }
  },
  "nbformat": 4,
  "nbformat_minor": 0
}

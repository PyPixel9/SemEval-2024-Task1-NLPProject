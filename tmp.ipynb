{
 "cells": [
  {
   "cell_type": "code",
   "execution_count": null,
   "metadata": {},
   "outputs": [],
   "source": [
    "import torch\n",
    "import torch.nn as nn\n",
    "\n",
    "# Define the parameters\n",
    "s = 10  # max_speakers\n",
    "n = 17  # dialogue_length\n",
    "k = 3   # kernel size along the speaker dimension\n",
    "\n",
    "# Generate random input tensor\n",
    "input_tensor = torch.randn(s, n, 786)\n",
    "\n",
    "# Define the convolutional layer\n",
    "conv_layer = nn.Conv3d(in_channels=s, out_channels=1, kernel_size=(s*k, 1, 1), stride=(s, 1, 1), bias=False)\n",
    "\n",
    "# Reshape input tensor to fit the convolution operation\n",
    "input_tensor = input_tensor.unsqueeze(0).unsqueeze(0)  # Adding batch and channel dimensions\n",
    "\n",
    "# Perform convolution\n",
    "output = conv_layer(input_tensor)\n",
    "\n",
    "# Remove unnecessary dimensions\n",
    "output = output.squeeze(0).squeeze(0)\n",
    "\n",
    "print(\"Output shape:\", output.shape)\n"
   ]
  }
 ],
 "metadata": {
  "kernelspec": {
   "display_name": "Python 3",
   "language": "python",
   "name": "python3"
  },
  "language_info": {
   "codemirror_mode": {
    "name": "ipython",
    "version": 3
   },
   "file_extension": ".py",
   "mimetype": "text/x-python",
   "name": "python",
   "nbconvert_exporter": "python",
   "pygments_lexer": "ipython3",
   "version": "3.12.1"
  }
 },
 "nbformat": 4,
 "nbformat_minor": 2
}
